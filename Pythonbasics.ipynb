{
  "cells": [
    {
      "cell_type": "markdown",
      "metadata": {
        "id": "JFX_lra3_YlP"
      },
      "source": [
        "pYTHON COURSE"
      ]
    },
    {
      "cell_type": "code",
      "execution_count": 1,
      "metadata": {
        "colab": {
          "base_uri": "https://localhost:8080/"
        },
        "id": "5CtHfJxA_YlR",
        "outputId": "d594c203-ead1-4c24-fe72-95b8263ae8e8"
      },
      "outputs": [
        {
          "output_type": "stream",
          "name": "stdout",
          "text": [
            "Hello, World!\n"
          ]
        }
      ],
      "source": [
        "print(\"Hello, World!\")\n"
      ]
    },
    {
      "cell_type": "markdown",
      "metadata": {
        "id": "tUQvl-T4_YlS"
      },
      "source": [
        "variable and data types"
      ]
    },
    {
      "cell_type": "code",
      "execution_count": 2,
      "metadata": {
        "id": "vNAjT88W_YlS"
      },
      "outputs": [],
      "source": [
        "age = 25\n",
        "height = 5.8\n",
        "name = \"John\""
      ]
    },
    {
      "cell_type": "markdown",
      "metadata": {
        "id": "Mobo6hU9_YlS"
      },
      "source": [
        "LISTS"
      ]
    },
    {
      "cell_type": "code",
      "execution_count": 3,
      "metadata": {
        "id": "IXW_tb7L_YlT"
      },
      "outputs": [],
      "source": [
        "fruits = [\"apple\", \"banana\", \"orange\"]\n"
      ]
    },
    {
      "cell_type": "markdown",
      "metadata": {
        "id": "nlQ0Hmdg_YlT"
      },
      "source": [
        "CONTROL FLOW"
      ]
    },
    {
      "cell_type": "code",
      "execution_count": 4,
      "metadata": {
        "colab": {
          "base_uri": "https://localhost:8080/"
        },
        "id": "NuNbnDPh_YlT",
        "outputId": "ceb20fb9-0b46-4bf6-d7bf-21edaf68c525"
      },
      "outputs": [
        {
          "output_type": "stream",
          "name": "stdout",
          "text": [
            "You are an adult.\n",
            "apple\n",
            "banana\n",
            "orange\n"
          ]
        }
      ],
      "source": [
        "if age > 18:\n",
        "    print(\"You are an adult.\")\n",
        "for fruit in fruits:\n",
        "    print(fruit)\n"
      ]
    },
    {
      "cell_type": "markdown",
      "metadata": {
        "id": "nnFqVmXA_YlT"
      },
      "source": [
        "FUNCTIONS"
      ]
    },
    {
      "cell_type": "code",
      "execution_count": 5,
      "metadata": {
        "colab": {
          "base_uri": "https://localhost:8080/"
        },
        "id": "jaK806jM_YlT",
        "outputId": "72614767-aaf4-47d7-de45-5f72ecbbe8d7"
      },
      "outputs": [
        {
          "output_type": "stream",
          "name": "stdout",
          "text": [
            "Hello, Alice!\n"
          ]
        }
      ],
      "source": [
        "def greet(name):\n",
        "    print(\"Hello, \" + name + \"!\")\n",
        "greet(\"Alice\")"
      ]
    },
    {
      "cell_type": "markdown",
      "metadata": {
        "id": "kg3NYeZD_YlU"
      },
      "source": [
        "QUEUE"
      ]
    },
    {
      "cell_type": "code",
      "execution_count": 7,
      "metadata": {
        "id": "h8NcgGvF_YlU"
      },
      "outputs": [],
      "source": [
        "from collections import deque\n",
        "queue = deque([1, 2, 3])\n",
        "queue.append(4)  # Enqueue\n",
        "dequeued_item = queue.popleft()  # Dequeue\n"
      ]
    },
    {
      "cell_type": "markdown",
      "metadata": {
        "id": "ihsffS9L_YlU"
      },
      "source": [
        "LINKED LIST"
      ]
    },
    {
      "cell_type": "code",
      "execution_count": 8,
      "metadata": {
        "id": "Lo30fs9N_YlU"
      },
      "outputs": [],
      "source": [
        "class Node:\n",
        "    def __init__(self, data=None):\n",
        "        self.data = data\n",
        "        self.next = None\n",
        "\n",
        "# Usage:\n",
        "node1 = Node(1)\n",
        "node2 = Node(2)\n",
        "node1.next = node2"
      ]
    },
    {
      "cell_type": "code",
      "source": [
        "person = {\"name\": \"John\", \"age\": 25, \"city\": \"New York\"}\n"
      ],
      "metadata": {
        "id": "TFn-did2Ecjz"
      },
      "execution_count": null,
      "outputs": []
    },
    {
      "cell_type": "code",
      "source": [
        "unique_numbers = {1, 2, 3, 4, 5}"
      ],
      "metadata": {
        "id": "f3TqWlVJEe3I"
      },
      "execution_count": null,
      "outputs": []
    },
    {
      "cell_type": "markdown",
      "source": [
        "arrays"
      ],
      "metadata": {
        "id": "BzJeSmngEha9"
      }
    },
    {
      "cell_type": "code",
      "source": [
        "class SimpleArray:\n",
        "    def __init__(self):\n",
        "        self.data = []\n",
        "\n",
        "    def append(self, value):\n",
        "        self.data.append(value)\n",
        "\n",
        "    def get(self, index):\n",
        "        return self.data[index]\n",
        "\n",
        "    def length(self):\n",
        "        return len(self.data)\n",
        "\n",
        "\n",
        "# Example Usage:\n",
        "my_array = SimpleArray()\n",
        "my_array.append(1)\n",
        "my_array.append(2)\n",
        "print(my_array.get(1))  # Output: 2\n",
        "print(my_array.length())  # Output: 2"
      ],
      "metadata": {
        "id": "YgPhqojZEi8L"
      },
      "execution_count": null,
      "outputs": []
    },
    {
      "cell_type": "markdown",
      "source": [
        "linear search"
      ],
      "metadata": {
        "id": "b6i9R02dEmIF"
      }
    },
    {
      "cell_type": "code",
      "source": [
        "def linear_search(arr, target):\n",
        "    for i, value in enumerate(arr):\n",
        "        if value == target:\n",
        "            return i\n",
        "    return -1\n",
        "\n",
        "\n",
        "# Example Usage:\n",
        "my_list = [1, 2, 3, 4, 5]\n",
        "target_value = 3\n",
        "print(linear_search(my_list, target_value))  # Output: 2\n"
      ],
      "metadata": {
        "id": "cmebk5sVEo1o"
      },
      "execution_count": null,
      "outputs": []
    },
    {
      "cell_type": "markdown",
      "source": [
        "bubble sort"
      ],
      "metadata": {
        "id": "iqBocdEqErWu"
      }
    },
    {
      "cell_type": "code",
      "source": [
        "def bubble_sort(arr):\n",
        "    n = len(arr)\n",
        "    for i in range(n):\n",
        "        for j in range(0, n - i - 1):\n",
        "            if arr[j] > arr[j + 1]:\n",
        "                arr[j], arr[j + 1] = arr[j + 1], arr[j]\n",
        "\n",
        "\n",
        "# Example Usage:\n",
        "unsorted_list = [64, 34, 25, 12, 22, 11, 90]\n",
        "bubble_sort(unsorted_list)\n",
        "print(unsorted_list)  # Output: [11, 12, 22, 25, 34, 64, 90]"
      ],
      "metadata": {
        "id": "sbyMNm3nEuke"
      },
      "execution_count": null,
      "outputs": []
    },
    {
      "cell_type": "markdown",
      "source": [
        "set"
      ],
      "metadata": {
        "id": "jsv-47lcEw_s"
      }
    },
    {
      "cell_type": "code",
      "source": [
        "class SimpleSet:\n",
        "    def __init__(self):\n",
        "        self.data = set()\n",
        "\n",
        "    def add(self, value):\n",
        "        self.data.add(value)\n",
        "\n",
        "    def contains(self, value):\n",
        "        return value in self.data\n",
        "\n",
        "\n",
        "# Example Usage:\n",
        "my_set = SimpleSet()\n",
        "my_set.add(1)\n",
        "my_set.add(2)\n",
        "print(my_set.contains(2))  # Output: True\n",
        "print(my_set.contains(3))  # Output: False\n"
      ],
      "metadata": {
        "id": "ntjByACzExyg"
      },
      "execution_count": null,
      "outputs": []
    },
    {
      "cell_type": "markdown",
      "source": [
        "maps"
      ],
      "metadata": {
        "id": "2oIpAjYVE02R"
      }
    },
    {
      "cell_type": "code",
      "source": [
        "class SimpleMap:\n",
        "    def __init__(self):\n",
        "        self.data = {}\n",
        "\n",
        "    def add(self, key, value):\n",
        "        self.data[key] = value\n",
        "\n",
        "    def get(self, key):\n",
        "        return self.data.get(key)\n",
        "\n",
        "\n",
        "# Example Usage:\n",
        "my_map = SimpleMap()\n",
        "my_map.add(\"name\", \"John\")\n",
        "my_map.add(\"age\", 25)\n",
        "print(my_map.get(\"name\"))  # Output: John\n",
        "print(my_map.get(\"city\"))  # Output: None\n"
      ],
      "metadata": {
        "id": "5i2Hssk3E3Jy"
      },
      "execution_count": null,
      "outputs": []
    }
  ],
  "metadata": {
    "language_info": {
      "name": "python"
    },
    "colab": {
      "provenance": []
    },
    "kernelspec": {
      "name": "python3",
      "display_name": "Python 3"
    }
  },
  "nbformat": 4,
  "nbformat_minor": 0
}