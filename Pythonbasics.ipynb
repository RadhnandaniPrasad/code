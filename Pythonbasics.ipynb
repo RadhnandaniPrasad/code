{
  "cells": [
    {
      "cell_type": "markdown",
      "metadata": {
        "id": "JFX_lra3_YlP"
      },
      "source": [
        "pYTHON COURSE"
      ]
    },
    {
      "cell_type": "code",
      "execution_count": 1,
      "metadata": {
        "id": "5CtHfJxA_YlR",
        "outputId": "d594c203-ead1-4c24-fe72-95b8263ae8e8",
        "colab": {
          "base_uri": "https://localhost:8080/"
        }
      },
      "outputs": [
        {
          "output_type": "stream",
          "name": "stdout",
          "text": [
            "Hello, World!\n"
          ]
        }
      ],
      "source": [
        "print(\"Hello, World!\")\n"
      ]
    },
    {
      "cell_type": "markdown",
      "metadata": {
        "id": "tUQvl-T4_YlS"
      },
      "source": [
        "variable and data types"
      ]
    },
    {
      "cell_type": "code",
      "execution_count": null,
      "metadata": {
        "id": "vNAjT88W_YlS"
      },
      "outputs": [],
      "source": [
        "age = 25\n",
        "height = 5.8\n",
        "name = \"John\""
      ]
    },
    {
      "cell_type": "markdown",
      "metadata": {
        "id": "Mobo6hU9_YlS"
      },
      "source": [
        "LISTS"
      ]
    },
    {
      "cell_type": "code",
      "execution_count": null,
      "metadata": {
        "id": "IXW_tb7L_YlT"
      },
      "outputs": [],
      "source": [
        "fruits = [\"apple\", \"banana\", \"orange\"]\n"
      ]
    },
    {
      "cell_type": "markdown",
      "metadata": {
        "id": "nlQ0Hmdg_YlT"
      },
      "source": [
        "CONTROL FLOW"
      ]
    },
    {
      "cell_type": "code",
      "execution_count": null,
      "metadata": {
        "id": "NuNbnDPh_YlT"
      },
      "outputs": [],
      "source": [
        "if age > 18:\n",
        "    print(\"You are an adult.\")\n",
        "for fruit in fruits:\n",
        "    print(fruit)\n"
      ]
    },
    {
      "cell_type": "markdown",
      "metadata": {
        "id": "nnFqVmXA_YlT"
      },
      "source": [
        "FUNCTIONS"
      ]
    },
    {
      "cell_type": "code",
      "execution_count": null,
      "metadata": {
        "id": "jaK806jM_YlT"
      },
      "outputs": [],
      "source": [
        "def greet(name):\n",
        "    print(\"Hello, \" + name + \"!\")\n",
        "greet(\"Alice\")"
      ]
    },
    {
      "cell_type": "markdown",
      "metadata": {
        "id": "kg3NYeZD_YlU"
      },
      "source": [
        "QUEUE"
      ]
    },
    {
      "cell_type": "code",
      "execution_count": null,
      "metadata": {
        "id": "h8NcgGvF_YlU"
      },
      "outputs": [],
      "source": [
        "from collections import deque\n",
        "queue = deque([1, 2, 3])\n",
        "queue.append(4)  # Enqueue\n",
        "dequeued_item = queue.popleft()  # Dequeue\n"
      ]
    },
    {
      "cell_type": "markdown",
      "metadata": {
        "id": "ihsffS9L_YlU"
      },
      "source": [
        "LINKED LIST"
      ]
    },
    {
      "cell_type": "code",
      "execution_count": null,
      "metadata": {
        "id": "Lo30fs9N_YlU"
      },
      "outputs": [],
      "source": [
        "class Node:\n",
        "    def __init__(self, data=None):\n",
        "        self.data = data\n",
        "        self.next = None\n",
        "\n",
        "# Usage:\n",
        "node1 = Node(1)\n",
        "node2 = Node(2)\n",
        "node1.next = node2"
      ]
    }
  ],
  "metadata": {
    "language_info": {
      "name": "python"
    },
    "colab": {
      "provenance": []
    },
    "kernelspec": {
      "name": "python3",
      "display_name": "Python 3"
    }
  },
  "nbformat": 4,
  "nbformat_minor": 0
}