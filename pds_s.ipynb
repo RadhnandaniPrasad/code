{
  "nbformat": 4,
  "nbformat_minor": 0,
  "metadata": {
    "colab": {
      "provenance": [],
      "authorship_tag": "ABX9TyODKkFjgl9oP+Q/NcTnNBWS",
      "include_colab_link": true
    },
    "kernelspec": {
      "name": "python3",
      "display_name": "Python 3"
    },
    "language_info": {
      "name": "python"
    }
  },
  "cells": [
    {
      "cell_type": "markdown",
      "metadata": {
        "id": "view-in-github",
        "colab_type": "text"
      },
      "source": [
        "<a href=\"https://colab.research.google.com/github/RadhnandaniPrasad/code/blob/main/pds_s.ipynb\" target=\"_parent\"><img src=\"https://colab.research.google.com/assets/colab-badge.svg\" alt=\"Open In Colab\"/></a>"
      ]
    },
    {
      "cell_type": "markdown",
      "source": [
        "# Array\n"
      ],
      "metadata": {
        "id": "HiLXLJlZUlf7"
      }
    },
    {
      "cell_type": "markdown",
      "source": [
        "leetcode #1   Two Sum"
      ],
      "metadata": {
        "id": "fbcloytYScwb"
      }
    },
    {
      "cell_type": "markdown",
      "source": [
        "sol 1   Brute force - time o(n)"
      ],
      "metadata": {
        "id": "pey_OdsYSn4y"
      }
    },
    {
      "cell_type": "code",
      "execution_count": null,
      "metadata": {
        "colab": {
          "base_uri": "https://localhost:8080/"
        },
        "id": "ve_5flNOSYZe",
        "outputId": "bc4e43be-7e1b-4196-a248-2d1f374734c3"
      },
      "outputs": [
        {
          "output_type": "stream",
          "name": "stdout",
          "text": [
            "[0, 1]\n"
          ]
        }
      ],
      "source": [
        "class Solution(object):\n",
        "    def twoSum(self, nums, target):\n",
        "        # Iterate through each element in the array\n",
        "        for i in range(len(nums)):\n",
        "            # Check for a complement such that nums[i] + complement = target\n",
        "            complement = target - nums[i]\n",
        "\n",
        "            # Iterate through the remaining elements to find the complement\n",
        "            for j in range(i + 1, len(nums)):\n",
        "                if nums[j] == complement:\n",
        "                    # Return the indices if a pair is found\n",
        "                    return [i, j]\n",
        "\n",
        "        # If no pair is found, return an empty list\n",
        "        return []\n",
        "\n",
        "# Example usage:\n",
        "solution = Solution()\n",
        "nums_example = [2, 7, 11, 15]\n",
        "target_example = 9\n",
        "result = solution.twoSum(nums_example, target_example)\n",
        "print(result)"
      ]
    },
    {
      "cell_type": "markdown",
      "source": [
        "sol2 - using hash map - time o(n) , space o(m)"
      ],
      "metadata": {
        "id": "mJsoJuK2Tut5"
      }
    },
    {
      "cell_type": "code",
      "source": [
        "class Solution(object):\n",
        "    def twoSum(self, nums, target):\n",
        "        # Create a dictionary to store the complement of each element\n",
        "        complement_dict = {}\n",
        "\n",
        "        # Iterate through each element in the array\n",
        "        for i, num in enumerate(nums):\n",
        "            # Calculate the complement needed to achieve the target sum\n",
        "            complement = target - num\n",
        "\n",
        "            # Check if the complement is already in the dictionary\n",
        "            if complement in complement_dict:\n",
        "                # Return the indices of the two numbers\n",
        "                return [complement_dict[complement], i]\n",
        "\n",
        "            # Store the current number and its index in the dictionary\n",
        "            complement_dict[num] = i\n",
        "\n",
        "        # If no pair is found, return an empty list\n",
        "        return []\n",
        "\n",
        "# Example usage:\n",
        "solution = Solution()\n",
        "nums_example = [2, 7, 11, 15]\n",
        "target_example = 9\n",
        "result = solution.twoSum(nums_example, target_example)\n",
        "print(result)"
      ],
      "metadata": {
        "colab": {
          "base_uri": "https://localhost:8080/"
        },
        "id": "T4Tw4PWrT4VW",
        "outputId": "80b105b1-8a0d-438b-ae26-4a262fd2ddee"
      },
      "execution_count": null,
      "outputs": [
        {
          "output_type": "stream",
          "name": "stdout",
          "text": [
            "[0, 1]\n"
          ]
        }
      ]
    },
    {
      "cell_type": "markdown",
      "source": [
        "leetcode #26 Remove Duplicates from Sorted Array"
      ],
      "metadata": {
        "id": "8HveVy9WUNrD"
      }
    },
    {
      "cell_type": "markdown",
      "source": [
        "sol1 brute force"
      ],
      "metadata": {
        "id": "_RJjfXL7UhNa"
      }
    },
    {
      "cell_type": "code",
      "source": [
        "from typing import List  # Import the List type from the typing module\n",
        "\n",
        "class Solution:  # No changes to this line\n",
        "  def removeDuplicates(self, nums: List[int]) -> int:\n",
        "    i = 0\n",
        "\n",
        "    for num in nums:\n",
        "      if i < 1 or num > nums[i - 1]:\n",
        "        nums[i] = num\n",
        "        i += 1\n",
        "\n",
        "      # Print the state of the list after each iteration\n",
        "      print(f\"i: {i}, nums: {nums}\")\n",
        "\n",
        "    return i\n",
        "\n",
        "# Create an instance of the Solution class\n",
        "solution_instance = Solution()\n",
        "\n",
        "# Example usage with a list\n",
        "example_nums = [1, 1, 2, 2, 3, 4, 4, 4, 5]\n",
        "result = solution_instance.removeDuplicates(example_nums)\n",
        "\n",
        "# Print the final result and modified list\n",
        "print(\"Final Result:\", result)\n",
        "print(\"Modified List:\", example_nums[:result])\n"
      ],
      "metadata": {
        "id": "kcYKiz9jUZ4H",
        "outputId": "635351dc-eb0b-4f25-fba7-e734d251e905",
        "colab": {
          "base_uri": "https://localhost:8080/"
        }
      },
      "execution_count": 1,
      "outputs": [
        {
          "output_type": "stream",
          "name": "stdout",
          "text": [
            "i: 1, nums: [1, 1, 2, 2, 3, 4, 4, 4, 5]\n",
            "i: 1, nums: [1, 1, 2, 2, 3, 4, 4, 4, 5]\n",
            "i: 2, nums: [1, 2, 2, 2, 3, 4, 4, 4, 5]\n",
            "i: 2, nums: [1, 2, 2, 2, 3, 4, 4, 4, 5]\n",
            "i: 3, nums: [1, 2, 3, 2, 3, 4, 4, 4, 5]\n",
            "i: 4, nums: [1, 2, 3, 4, 3, 4, 4, 4, 5]\n",
            "i: 4, nums: [1, 2, 3, 4, 3, 4, 4, 4, 5]\n",
            "i: 4, nums: [1, 2, 3, 4, 3, 4, 4, 4, 5]\n",
            "i: 5, nums: [1, 2, 3, 4, 5, 4, 4, 4, 5]\n",
            "Final Result: 5\n",
            "Modified List: [1, 2, 3, 4, 5]\n"
          ]
        }
      ]
    }
  ]
}