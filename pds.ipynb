{
  "nbformat": 4,
  "nbformat_minor": 0,
  "metadata": {
    "colab": {
      "provenance": [],
      "authorship_tag": "ABX9TyOZEB3Mm02s4frLWaGynXRS",
      "include_colab_link": true
    },
    "kernelspec": {
      "name": "python3",
      "display_name": "Python 3"
    },
    "language_info": {
      "name": "python"
    }
  },
  "cells": [
    {
      "cell_type": "markdown",
      "metadata": {
        "id": "view-in-github",
        "colab_type": "text"
      },
      "source": [
        "<a href=\"https://colab.research.google.com/github/RadhnandaniPrasad/code/blob/main/pds.ipynb\" target=\"_parent\"><img src=\"https://colab.research.google.com/assets/colab-badge.svg\" alt=\"Open In Colab\"/></a>"
      ]
    },
    {
      "cell_type": "markdown",
      "source": [
        "leetcode #1"
      ],
      "metadata": {
        "id": "fbcloytYScwb"
      }
    },
    {
      "cell_type": "markdown",
      "source": [
        "TWO SUM : Given an array of integers nums and an integer target, return indices of the two numbers such that they add up to target.\n",
        "\n",
        "You may assume that each input would have exactly one solution, and you may not use the same element twice.\n",
        "\n",
        "You can return the answer in any order.\n",
        "\n",
        "Example 1:\n",
        "\n",
        "Input: nums = [2,7,11,15], target = 9 Output: [0,1] Explanation: Because nums[0] + nums[1] == 9, we return [0, 1]. Example 2:\n",
        "\n",
        "Input: nums = [3,2,4], target = 6 Output: [1,2] Example 3:\n",
        "\n",
        "Input: nums = [3,3], target = 6 Output: [0,1]\n",
        "\n",
        "Constraints:\n",
        "\n",
        "2 <= nums.length <= 104 -109 <= nums[i] <= 109 -109 <= target <= 109 Only one valid answer exists.\n",
        "\n",
        "Follow-up: Can you come up with an algorithm that is less than O(n2) time complexity"
      ],
      "metadata": {
        "id": "M2YDLqjDSmKa"
      }
    },
    {
      "cell_type": "markdown",
      "source": [
        "sol 1   "
      ],
      "metadata": {
        "id": "pey_OdsYSn4y"
      }
    },
    {
      "cell_type": "code",
      "execution_count": 1,
      "metadata": {
        "colab": {
          "base_uri": "https://localhost:8080/"
        },
        "id": "ve_5flNOSYZe",
        "outputId": "bc4e43be-7e1b-4196-a248-2d1f374734c3"
      },
      "outputs": [
        {
          "output_type": "stream",
          "name": "stdout",
          "text": [
            "[0, 1]\n"
          ]
        }
      ],
      "source": [
        "class Solution(object):\n",
        "    def twoSum(self, nums, target):\n",
        "        # Iterate through each element in the array\n",
        "        for i in range(len(nums)):\n",
        "            # Check for a complement such that nums[i] + complement = target\n",
        "            complement = target - nums[i]\n",
        "\n",
        "            # Iterate through the remaining elements to find the complement\n",
        "            for j in range(i + 1, len(nums)):\n",
        "                if nums[j] == complement:\n",
        "                    # Return the indices if a pair is found\n",
        "                    return [i, j]\n",
        "\n",
        "        # If no pair is found, return an empty list\n",
        "        return []\n",
        "\n",
        "# Example usage:\n",
        "solution = Solution()\n",
        "nums_example = [2, 7, 11, 15]\n",
        "target_example = 9\n",
        "result = solution.twoSum(nums_example, target_example)\n",
        "print(result)"
      ]
    }
  ]
}